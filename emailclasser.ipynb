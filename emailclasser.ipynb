{
  "nbformat": 4,
  "nbformat_minor": 0,
  "metadata": {
    "colab": {
      "provenance": [],
      "name": "emailclasser.ipynb",
      "authorship_tag": "ABX9TyOYLh9/n4gWJz3WVIXdrYtX",
      "include_colab_link": true
    },
    "kernelspec": {
      "name": "python3",
      "display_name": "Python 3"
    },
    "language_info": {
      "name": "python"
    }
  },
  "cells": [
    {
      "cell_type": "markdown",
      "metadata": {
        "id": "view-in-github",
        "colab_type": "text"
      },
      "source": [
        "<a href=\"https://colab.research.google.com/github/Ghatazhak/Capstone/blob/main/emailclasser.ipynb\" target=\"_parent\"><img src=\"https://colab.research.google.com/assets/colab-badge.svg\" alt=\"Open In Colab\"/></a>"
      ]
    },
    {
      "cell_type": "code",
      "source": [
        "import pandas as pd\n",
        "from sklearn.tree import DecisionTreeClassifier\n",
        "from sklearn.model_selection import train_test_split\n",
        "from sklearn.metrics import accuracy_score\n",
        "email_df = pd.read_csv('https://raw.githubusercontent.com/Ghatazhak/Capstone/main/emails.csv')\n",
        "\n",
        "X = email_df.drop(columns=['Email No.','Prediction']) # Removed column one and the last column.\n",
        "y = email_df['Prediction'] # Only keep the the first column.\n",
        "X_t, X_test, y_t, y_te = train_test_split(X, y, test_size=0.3) # Split the data set for training and testing.\n",
        "\n",
        "ml_model = DecisionTreeClassifier() # Decision Tree Algorithm model\n",
        "ml_model.fit(X_t, y_t) # train the decision tree model.\n",
        "\n",
        "predictions = ml_model.predict(X_test) # Run the test data through the model\n",
        "score = accuracy_score(y_te, predictions)\n",
        "score\n",
        "\n"
      ],
      "metadata": {
        "id": "84P0jhc7mLSS",
        "outputId": "401d616d-4f57-4699-bb8a-71740cb4951f",
        "colab": {
          "base_uri": "https://localhost:8080/"
        }
      },
      "execution_count": 6,
      "outputs": [
        {
          "output_type": "execute_result",
          "data": {
            "text/plain": [
              "0.9362113402061856"
            ]
          },
          "metadata": {},
          "execution_count": 6
        }
      ]
    }
  ]
}