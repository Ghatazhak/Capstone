{
  "nbformat": 4,
  "nbformat_minor": 0,
  "metadata": {
    "colab": {
      "provenance": [],
      "collapsed_sections": [],
      "authorship_tag": "ABX9TyPJCrcv1lhCDviOB3Ms+s9b",
      "include_colab_link": true
    },
    "kernelspec": {
      "name": "python3",
      "display_name": "Python 3"
    },
    "language_info": {
      "name": "python"
    }
  },
  "cells": [
    {
      "cell_type": "markdown",
      "metadata": {
        "id": "view-in-github",
        "colab_type": "text"
      },
      "source": [
        "<a href=\"https://colab.research.google.com/github/Ghatazhak/Capstone/blob/main/emailclasser.ipynb\" target=\"_parent\"><img src=\"https://colab.research.google.com/assets/colab-badge.svg\" alt=\"Open In Colab\"/></a>"
      ]
    },
    {
      "cell_type": "markdown",
      "source": [
        "#Email Classer\n",
        " A machine learning program that classifies emails as either spam or not spam. It uses a decision tree algorithm to determine whether an email is spam or not spam.\n"
      ],
      "metadata": {
        "id": "FSXDS4_2Ntz2"
      }
    },
    {
      "cell_type": "code",
      "source": [
        "from sklearn.metrics._plot.confusion_matrix import ConfusionMatrixDisplay\n",
        "import pandas as pd\n",
        "# from sklearn import metrics\n",
        "from sklearn.tree import DecisionTreeClassifier\n",
        "from sklearn.model_selection import train_test_split\n",
        "from sklearn.metrics import accuracy_score, confusion_matrix, det_curve\n",
        "from pandas.plotting import scatter_matrix\n",
        "from matplotlib import pyplot\n",
        "\n",
        "\n",
        "\n",
        "\n",
        "\n",
        "\n",
        "email_df = pd.read_csv('https://raw.githubusercontent.com/Ghatazhak/Capstone/main/emails.csv')\n",
        "\n",
        "X = email_df.drop(columns=['Email No.','Prediction']) # Removed column one and the last column.\n",
        "y = email_df[['Prediction']] # Only keep the last column.\n",
        "X_train, X_test, y_train, y_test = train_test_split(X, y, test_size=0.3) # Split the data set for training and testing.\n",
        "\n",
        "ml_model = DecisionTreeClassifier() # Decision Tree Algorithm model\n",
        "ml_model.fit(X_train.values, y_train.values) # train the decision tree model.\n",
        "\n",
        "predictions = ml_model.predict(X_test.values) # Run the test data through the model\n",
        "accuracy = accuracy_score(y_test, predictions) # Checking predictions of model\n",
        "\n",
        "print('The model accuracy is: %5.2f' %(accuracy * 100))\n",
        "\n",
        "# Confusion Matrix Implementation\n",
        "cm = confusion_matrix(y_test, predictions)\n",
        "disp = ConfusionMatrixDisplay(confusion_matrix=cm)\n",
        "disp.plot()\n",
        "\n",
        "\n",
        "# scatter_matrix(y_t)\n",
        "# y_t.hist()\n",
        "# pyplot.show()\n"
      ],
      "metadata": {
        "id": "84P0jhc7mLSS",
        "outputId": "f06dfeb1-bc3a-4c99-e87d-c9a5d8493287",
        "colab": {
          "base_uri": "https://localhost:8080/",
          "height": 314
        }
      },
      "execution_count": 50,
      "outputs": [
        {
          "output_type": "stream",
          "name": "stdout",
          "text": [
            "The model accuracy is: 93.30\n"
          ]
        },
        {
          "output_type": "execute_result",
          "data": {
            "text/plain": [
              "<sklearn.metrics._plot.confusion_matrix.ConfusionMatrixDisplay at 0x7f95aa45b210>"
            ]
          },
          "metadata": {},
          "execution_count": 50
        },
        {
          "output_type": "display_data",
          "data": {
            "text/plain": [
              "<Figure size 432x288 with 2 Axes>"
            ],
            "image/png": "[encoded data removed]"
          },
          "metadata": {
            "needs_background": "light"
          }
        }
      ]
    },
    {
      "cell_type": "code",
      "source": [
        "\n",
        "\n"
      ],
      "metadata": {
        "colab": {
          "base_uri": "https://localhost:8080/"
        },
        "id": "C3bwNSBuityM",
        "outputId": "0ac13fe9-ec66-4c9b-e661-c79841ab37b0"
      },
      "execution_count": 14,
      "outputs": [
        {
          "output_type": "stream",
          "name": "stdout",
          "text": [
            "skipping\n"
          ]
        }
      ]
    },
    {
      "cell_type": "markdown",
      "source": [
        "# How to test emails manually\n",
        "Copy the following lines of code and paste into code cell bellow and click run cell button on left side of cell:\n",
        "\n",
        "////////////////////////////COPY BELOW/////////////////////////////////////\n",
        "\n",
        "manual_emails = pd.read_csv('https://raw.githubusercontent.com/Ghatazhak/Capstone/main/manual_test_emails.csv')\n",
        "\n",
        "Xm = manual_emails.drop(columns=['Email No.','Prediction']) # Removed column \n",
        "ym = manual_emails[['Prediction']] # Only keep the last column.\n",
        "manual_predictions = ml_model.predict(Xm.values) # Run the test data through the model\n",
        "\n",
        "for index, value in enumerate(manual_predictions):\n",
        "  if value == 0:\n",
        "    print(f'Email {index} is not spam!')\n",
        "  else:\n",
        "    print(f'Email {index} is spam!')\n",
        "\n",
        "\n",
        "////////////////////////COPY ABOVE//////////////////////////////////////\n",
        "\n",
        "\n",
        "\n",
        "\n"
      ],
      "metadata": {
        "id": "JisP21iqecZ6"
      }
    },
    {
      "cell_type": "code",
      "source": [
        "manual_emails = pd.read_csv('https://raw.githubusercontent.com/Ghatazhak/Capstone/main/manual_test_emails.csv')\n",
        "\n",
        "Xm = manual_emails.drop(columns=['Email No.','Prediction']) # Removed column \n",
        "ym = manual_emails[['Prediction']] # Only keep the last column.\n",
        "manual_predictions = ml_model.predict(Xm.values) # Run the test data through the model\n",
        "\n",
        "for index, value in enumerate(manual_predictions):\n",
        "  if value == 0:\n",
        "    print(f'Email {index} is not spam!')\n",
        "  else:\n",
        "    print(f'Email {index} is spam!')\n",
        "\n",
        "\n",
        "\n"
      ],
      "metadata": {
        "colab": {
          "base_uri": "https://localhost:8080/"
        },
        "id": "02lP5d3IgIny",
        "outputId": "51b0ae68-f144-4410-93ff-052e8d562c24"
      },
      "execution_count": 55,
      "outputs": [
        {
          "output_type": "stream",
          "name": "stdout",
          "text": [
            "Email 0 is not spam!\n",
            "Email 1 is not spam!\n",
            "Email 2 is not spam!\n",
            "Email 3 is not spam!\n",
            "Email 4 is not spam!\n",
            "Email 5 is spam!\n",
            "Email 6 is not spam!\n",
            "Email 7 is spam!\n",
            "Email 8 is not spam!\n"
          ]
        }
      ]
    },
    {
      "cell_type": "code",
      "source": [
        "# Det Curve Implementation\n",
        "fpr, fnr, thresholds = det_curve(y_te, predictions)\n",
        "fpr\n",
        "fnr\n",
        "thresholds"
      ],
      "metadata": {
        "colab": {
          "base_uri": "https://localhost:8080/"
        },
        "id": "hkqVsosFjXSk",
        "outputId": "e092e27b-d8d9-4861-a281-f04d4e13e1e8"
      },
      "execution_count": null,
      "outputs": [
        {
          "output_type": "execute_result",
          "data": {
            "text/plain": [
              "array([0, 1])"
            ]
          },
          "metadata": {},
          "execution_count": 16
        }
      ]
    }
  ]
}