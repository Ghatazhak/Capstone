{
  "nbformat": 4,
  "nbformat_minor": 0,
  "metadata": {
    "colab": {
      "provenance": [],
      "collapsed_sections": [],
      "authorship_tag": "ABX9TyNXCj7VeVZZrxvxuQH7mm/5",
      "include_colab_link": true
    },
    "kernelspec": {
      "name": "python3",
      "display_name": "Python 3"
    },
    "language_info": {
      "name": "python"
    }
  },
  "cells": [
    {
      "cell_type": "markdown",
      "metadata": {
        "id": "view-in-github",
        "colab_type": "text"
      },
      "source": [
        "<a href=\"https://colab.research.google.com/github/Ghatazhak/Capstone/blob/main/emailclasser.ipynb\" target=\"_parent\"><img src=\"https://colab.research.google.com/assets/colab-badge.svg\" alt=\"Open In Colab\"/></a>"
      ]
    },
    {
      "cell_type": "markdown",
      "source": [
        "#Email Classer\n",
        " A machine learning program that classifies emails as either spam or not spam. It uses a decision tree algorithm to determine whether an email is spam or not spam.\n"
      ],
      "metadata": {
        "id": "FSXDS4_2Ntz2"
      }
    },
    {
      "cell_type": "code",
      "source": [
        "import pandas as pd\n",
        "from sklearn import metrics\n",
        "from sklearn.tree import DecisionTreeClassifier\n",
        "from sklearn.model_selection import train_test_split\n",
        "from sklearn.metrics import accuracy_score\n",
        "from pandas.plotting import scatter_matrix\n",
        "from matplotlib import pyplot\n",
        "\n",
        "\n",
        "email_df = pd.read_csv('https://raw.githubusercontent.com/Ghatazhak/Capstone/main/emails.csv')\n",
        "\n",
        "X = email_df.drop(columns=['Email No.','Prediction']) # Removed column one and the last column.\n",
        "y = email_df[['Prediction']] # Only keep the last column.\n",
        "X_t, X_te, y_t, y_te = train_test_split(X, y, test_size=0.3) # Split the data set for training and testing.\n",
        "\n",
        "ml_model = DecisionTreeClassifier() # Decision Tree Algorithm model\n",
        "ml_model.fit(X_t, y_t) # train the decision tree model.\n",
        "\n",
        "predictions = ml_model.predict(X_te) # Run the test data through the model\n",
        "accuracy = accuracy_score(y_te, predictions) # Checking predictions of model\n",
        "print('The model accuracy is: %5.2f' %(accuracy * 100))\n",
        "\n",
        "metrics.plot_confusion_matrix(ml_model, X_te, y_te)\n",
        "\n",
        "# scatter_matrix(y_t)\n",
        "# y_t.hist()\n",
        "# pyplot.show()\n",
        "\n"
      ],
      "metadata": {
        "id": "84P0jhc7mLSS",
        "outputId": "dbbf7c69-6646-4393-ee88-b71433129c35",
        "colab": {
          "base_uri": "https://localhost:8080/",
          "height": 368
        }
      },
      "execution_count": 6,
      "outputs": [
        {
          "output_type": "stream",
          "name": "stdout",
          "text": [
            "The model accuracy is: 93.62\n"
          ]
        },
        {
          "output_type": "stream",
          "name": "stderr",
          "text": [
            "/usr/local/lib/python3.7/dist-packages/sklearn/utils/deprecation.py:87: FutureWarning: Function plot_confusion_matrix is deprecated; Function `plot_confusion_matrix` is deprecated in 1.0 and will be removed in 1.2. Use one of the class methods: ConfusionMatrixDisplay.from_predictions or ConfusionMatrixDisplay.from_estimator.\n",
            "  warnings.warn(msg, category=FutureWarning)\n"
          ]
        },
        {
          "output_type": "execute_result",
          "data": {
            "text/plain": [
              "<sklearn.metrics._plot.confusion_matrix.ConfusionMatrixDisplay at 0x7f7526204550>"
            ]
          },
          "metadata": {},
          "execution_count": 6
        },
        {
          "output_type": "display_data",
          "data": {
            "text/plain": [
              "<Figure size 432x288 with 2 Axes>"
            ],
            "image/png": "[encoded data removed]"
          },
          "metadata": {
            "needs_background": "light"
          }
        }
      ]
    },
    {
      "cell_type": "code",
      "source": [],
      "metadata": {
        "id": "hkqVsosFjXSk"
      },
      "execution_count": null,
      "outputs": []
    }
  ]
}