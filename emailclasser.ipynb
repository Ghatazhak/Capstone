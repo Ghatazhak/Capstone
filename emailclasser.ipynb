{
  "nbformat": 4,
  "nbformat_minor": 0,
  "metadata": {
    "colab": {
      "provenance": [],
      "collapsed_sections": [],
      "authorship_tag": "ABX9TyO2bgWF/yvt1PmRz7PHlVit",
      "include_colab_link": true
    },
    "kernelspec": {
      "name": "python3",
      "display_name": "Python 3"
    },
    "language_info": {
      "name": "python"
    }
  },
  "cells": [
    {
      "cell_type": "markdown",
      "metadata": {
        "id": "view-in-github",
        "colab_type": "text"
      },
      "source": [
        "<a href=\"https://colab.research.google.com/github/Ghatazhak/Capstone/blob/main/emailclasser.ipynb\" target=\"_parent\"><img src=\"https://colab.research.google.com/assets/colab-badge.svg\" alt=\"Open In Colab\"/></a>"
      ]
    },
    {
      "cell_type": "code",
      "source": [
        "!pip install anvil-uplink"
      ],
      "metadata": {
        "colab": {
          "base_uri": "https://localhost:8080/",
          "height": 260
        },
        "id": "9Si0aVjEcGwR",
        "outputId": "7754a5da-8ae2-4de6-814f-1b96b3c64a6d"
      },
      "execution_count": null,
      "outputs": [
        {
          "output_type": "stream",
          "name": "stdout",
          "text": [
            "Looking in indexes: https://pypi.org/simple, https://us-python.pkg.dev/colab-wheels/public/simple/\n",
            "Requirement already satisfied: anvil-uplink in /usr/local/lib/python3.7/dist-packages (0.4.1)\n",
            "Requirement already satisfied: future in /usr/local/lib/python3.7/dist-packages (from anvil-uplink) (0.16.0)\n",
            "Requirement already satisfied: six in /usr/local/lib/python3.7/dist-packages (from anvil-uplink) (1.15.0)\n",
            "Collecting argparse\n",
            "  Using cached argparse-1.4.0-py2.py3-none-any.whl (23 kB)\n",
            "Requirement already satisfied: ws4py in /usr/local/lib/python3.7/dist-packages (from anvil-uplink) (0.5.1)\n",
            "Installing collected packages: argparse\n",
            "Successfully installed argparse-1.4.0\n"
          ]
        },
        {
          "output_type": "display_data",
          "data": {
            "application/vnd.colab-display-data+json": {
              "pip_warning": {
                "packages": [
                  "argparse"
                ]
              }
            }
          },
          "metadata": {}
        }
      ]
    },
    {
      "cell_type": "markdown",
      "source": [
        "#Email Classer\n",
        " A machine learning program that classifies emails as either spam or not spam. It uses a decision tree algorithm to determine whether an email is spam or not spam.\n"
      ],
      "metadata": {
        "id": "FSXDS4_2Ntz2"
      }
    },
    {
      "cell_type": "code",
      "source": [
        "\n",
        "from sklearn.metrics._plot.confusion_matrix import ConfusionMatrixDisplay\n",
        "import pandas as pd\n",
        "import anvil.server\n",
        "from sklearn.tree import DecisionTreeClassifier\n",
        "from sklearn.model_selection import train_test_split\n",
        "from sklearn.metrics import accuracy_score, confusion_matrix, det_curve, DetCurveDisplay, RocCurveDisplay, precision_recall_curve, PrecisionRecallDisplay\n",
        "from pandas.plotting import scatter_matrix\n",
        "from matplotlib import pyplot\n",
        "\n",
        "anvil.server.connect(\"VE3VBEBUTQMHGWEL26X22BUD-HXRC6CXOSCH4HXTX\")\n",
        "\n",
        "email_df = pd.read_csv('https://raw.githubusercontent.com/Ghatazhak/Capstone/main/emails.csv')\n",
        "\n",
        "X = email_df.drop(columns=['Email No.','Prediction']) # Removed column one and the last column.\n",
        "y = email_df[['Prediction']] # Only keep the last column.\n",
        "X_train, X_test, y_train, y_test = train_test_split(X, y, test_size=0.3) # Split the data set for training and testing.\n",
        "\n",
        "ml_model = DecisionTreeClassifier() # Decision Tree Algorithm model\n",
        "ml_model.fit(X_train.values, y_train.values) # train the decision tree model.\n",
        "\n",
        "try:\n",
        "  predictions = ml_model.predict(X_test.values) # Run the test data through the model\n",
        "except:\n",
        "  print(\"Invalid Data\") # This could be expanded to create a log file.\n",
        "\n",
        "\n",
        "accuracy = accuracy_score(y_test, predictions) # Checking predictions of model\n",
        "\n",
        "print('The model accuracy is: %5.2f' %(accuracy * 100))\n",
        "\n",
        "# Confusion Matrix Implementation\n",
        "cm = confusion_matrix(y_test, predictions)\n",
        "disp = ConfusionMatrixDisplay(confusion_matrix=cm)\n",
        "disp.plot()\n",
        "\n",
        "# RocCurve Implementation\n",
        "disp = RocCurveDisplay.from_estimator(ml_model, X_test.values, y_test.values)\n",
        "\n",
        "# Precision_recall_curve inmplementation\n",
        "precision, recall, _ = precision_recall_curve(y_test, predictions)\n",
        "disp_prec_recall = PrecisionRecallDisplay(precision=precision, recall=recall)\n",
        "disp_prec_recall.plot()\n",
        "\n",
        "pyplot.show()\n",
        "\n",
        "@anvil.server.callable\n",
        "def test_emails():\n",
        "  manual_emails = pd.read_csv('https://raw.githubusercontent.com/Ghatazhak/Capstone/main/manual_test_emails.csv')\n",
        "\n",
        "  Xm = manual_emails.drop(columns=['Email No.','Prediction']) # Removed column\n",
        "\n",
        "  manual_predictions = ml_model.predict(Xm.values) # Run the test data through the model.\n",
        "  \n",
        "  return manual_predictions\n",
        "\n",
        "\n",
        "anvil.server.wait_forever()\n",
        "       \n"
      ],
      "metadata": {
        "id": "84P0jhc7mLSS"
      },
      "execution_count": null,
      "outputs": []
    },
    {
      "cell_type": "markdown",
      "source": [
        "# Click Link to manually run emails through system.\n",
        "[Email Classification UX](https://defenseless-fluid-tanager.anvil.app)"
      ],
      "metadata": {
        "id": "MSUDI6vqjAcz"
      }
    }
  ]
}