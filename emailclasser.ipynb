{
  "nbformat": 4,
  "nbformat_minor": 0,
  "metadata": {
    "colab": {
      "provenance": [],
      "collapsed_sections": [],
      "authorship_tag": "ABX9TyO0YBHKhHS3ZkjSGSfum2zs",
      "include_colab_link": true
    },
    "kernelspec": {
      "name": "python3",
      "display_name": "Python 3"
    },
    "language_info": {
      "name": "python"
    }
  },
  "cells": [
    {
      "cell_type": "markdown",
      "metadata": {
        "id": "view-in-github",
        "colab_type": "text"
      },
      "source": [
        "<a href=\"https://colab.research.google.com/github/Ghatazhak/Capstone/blob/main/emailclasser.ipynb\" target=\"_parent\"><img src=\"https://colab.research.google.com/assets/colab-badge.svg\" alt=\"Open In Colab\"/></a>"
      ]
    },
    {
      "cell_type": "markdown",
      "source": [
        "#Email Classer\n",
        " A machine learning program that classifies emails as either spam or not spam. It uses a decision tree algorithm to determine whether an email is spam or not spam.\n"
      ],
      "metadata": {
        "id": "FSXDS4_2Ntz2"
      }
    },
    {
      "cell_type": "code",
      "source": [
        "import pandas as pd\n",
        "from sklearn.tree import DecisionTreeClassifier\n",
        "from sklearn.model_selection import train_test_split\n",
        "from sklearn.metrics import accuracy_score\n",
        "from pandas.plotting import scatter_matrix\n",
        "from matplotlib import pyplot\n",
        "\n",
        "\n",
        "email_df = pd.read_csv('https://raw.githubusercontent.com/Ghatazhak/Capstone/main/emails.csv')\n",
        "\n",
        "X = email_df.drop(columns=['Email No.','Prediction']) # Removed column one and the last column.\n",
        "y = email_df[['Prediction']] # Only keep the last column.\n",
        "X_t, X_test, y_t, y_te = train_test_split(X, y, test_size=0.3) # Split the data set for training and testing.\n",
        "\n",
        "ml_model = DecisionTreeClassifier() # Decision Tree Algorithm model\n",
        "ml_model.fit(X_t, y_t) # train the decision tree model.\n",
        "\n",
        "predictions = ml_model.predict(X_test) # Run the test data through the model\n",
        "accuracy = accuracy_score(y_te, predictions) # Checking predictions of model\n",
        "print('The model accuracy is: %5.2f' %(accuracy * 100))\n",
        "\n",
        "\n",
        "\n",
        "# scatter_matrix(y_t)\n",
        "# y_t.hist()\n",
        "# pyplot.show()\n",
        "\n"
      ],
      "metadata": {
        "id": "84P0jhc7mLSS",
        "outputId": "7069915e-2307-4c20-9333-f388e27f8def",
        "colab": {
          "base_uri": "https://localhost:8080/"
        }
      },
      "execution_count": 4,
      "outputs": [
        {
          "output_type": "stream",
          "name": "stdout",
          "text": [
            "The model accuracy is: 92.59\n"
          ]
        }
      ]
    },
    {
      "cell_type": "code",
      "source": [],
      "metadata": {
        "id": "KQvVuduyOfIR"
      },
      "execution_count": null,
      "outputs": []
    }
  ]
}