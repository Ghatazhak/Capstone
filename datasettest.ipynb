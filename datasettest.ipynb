{
  "nbformat": 4,
  "nbformat_minor": 0,
  "metadata": {
    "colab": {
      "provenance": [],
      "authorship_tag": "ABX9TyNrWlES+4RccuiYPWFIrzgB",
      "include_colab_link": true
    },
    "kernelspec": {
      "name": "python3",
      "display_name": "Python 3"
    },
    "language_info": {
      "name": "python"
    }
  },
  "cells": [
    {
      "cell_type": "markdown",
      "metadata": {
        "id": "view-in-github",
        "colab_type": "text"
      },
      "source": [
        "<a href=\"https://colab.research.google.com/github/Ghatazhak/Capstone/blob/main/datasettest.ipynb\" target=\"_parent\"><img src=\"https://colab.research.google.com/assets/colab-badge.svg\" alt=\"Open In Colab\"/></a>"
      ]
    },
    {
      "cell_type": "code",
      "execution_count": null,
      "metadata": {
        "id": "iBUgEEHBtBvM"
      },
      "outputs": [],
      "source": [
        "from google.colab import drive\n",
        "drive.mount(\"/content/gdrive\")"
      ]
    },
    {
      "cell_type": "code",
      "source": [
        "import pandas as pd\n",
        "from sklearn.tree import DecisionTreeClassifier\n",
        "from sklearn.model_selection import train_test_split\n",
        "from sklearn.metrics import accuracy_score\n",
        "email_df = pd.read_csv('https://raw.githubusercontent.com/Ghatazhak/Capstone/main/emails.csv')\n",
        "\n",
        "X = email_df.drop(columns=['Email No.','Prediction'])\n",
        "y = email_df['Prediction']\n",
        "X_train, X_test, y_train, y_test = train_test_split(X, y, test_size=0.3)\n",
        "\n",
        "ml_model = DecisionTreeClassifier()\n",
        "ml_model.fit(X_train, y_train)\n",
        "\n",
        "predictions = ml_model.predict(X_test)\n",
        "score = accuracy_score(y_test, predictions)\n",
        "score\n",
        "\n"
      ],
      "metadata": {
        "id": "84P0jhc7mLSS",
        "outputId": "37bb00e9-1fa7-43b8-adee-b82223ea4e27",
        "colab": {
          "base_uri": "https://localhost:8080/"
        }
      },
      "execution_count": 4,
      "outputs": [
        {
          "output_type": "execute_result",
          "data": {
            "text/plain": [
              "0.9368556701030928"
            ]
          },
          "metadata": {},
          "execution_count": 4
        }
      ]
    }
  ]
}